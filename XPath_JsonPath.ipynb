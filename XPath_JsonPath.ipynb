{
  "nbformat": 4,
  "nbformat_minor": 0,
  "metadata": {
    "colab": {
      "name": "XPath_JsonPath.ipynb",
      "provenance": []
    },
    "kernelspec": {
      "name": "python3",
      "display_name": "Python 3"
    }
  },
  "cells": [
    {
      "cell_type": "markdown",
      "metadata": {
        "id": "7chgrhJGUrtR"
      },
      "source": [
        "Let's get the Menu from this week:"
      ]
    },
    {
      "cell_type": "code",
      "metadata": {
        "id": "1rRETNttjV70"
      },
      "source": [
        "import requests\n",
        "mensaPlan = requests.get(\"https://fhnw.sv-restaurant.ch/de/menuplan/\")\n"
      ],
      "execution_count": 2,
      "outputs": []
    },
    {
      "cell_type": "markdown",
      "metadata": {
        "id": "XTa6RwJNCkRR"
      },
      "source": [
        "Now let's transform this unstructured text into an xml struture"
      ]
    },
    {
      "cell_type": "code",
      "metadata": {
        "id": "IbcbJrO-Ck-v"
      },
      "source": [
        "from lxml import etree\n",
        "from lxml import html  \n",
        "source_code = html.fromstring(mensaPlan.content) "
      ],
      "execution_count": 3,
      "outputs": []
    },
    {
      "cell_type": "markdown",
      "metadata": {
        "id": "U8lc3-5iXScX"
      },
      "source": [
        "Although structured we can only access the information in a very difficult way...\n"
      ]
    },
    {
      "cell_type": "code",
      "metadata": {
        "id": "j5R_6qlaVLTB",
        "colab": {
          "base_uri": "https://localhost:8080/"
        },
        "outputId": "34fc5a7d-fb0c-4eab-eef6-12b89e088478"
      },
      "source": [
        "obj1=source_code.body.getchildren()[1].getchildren()[0].getchildren()[1].getchildren()[0].getchildren()[0].getchildren()[0].getchildren()[0].getchildren()[0]\n",
        "#show content\n",
        "etree.tostring(obj1)\n",
        "\n",
        "\n",
        "\n"
      ],
      "execution_count": 9,
      "outputs": [
        {
          "output_type": "execute_result",
          "data": {
            "text/plain": [
              "b'<a href=\"/de/menuplan/\" target=\"_self\" class=\"act\">Menuplan</a>'"
            ]
          },
          "metadata": {
            "tags": []
          },
          "execution_count": 9
        }
      ]
    },
    {
      "cell_type": "markdown",
      "metadata": {
        "id": "5JLEZa1nZPi3"
      },
      "source": [
        "What are the class/instance methods from obj1?\n"
      ]
    },
    {
      "cell_type": "code",
      "metadata": {
        "id": "J3qeSrcKXdWH",
        "colab": {
          "base_uri": "https://localhost:8080/"
        },
        "outputId": "810a110a-9233-4795-d925-520e8896a302"
      },
      "source": [
        "\n",
        "#show attribute and methods of the object obj1\n",
        "dir(obj1)"
      ],
      "execution_count": 10,
      "outputs": [
        {
          "output_type": "execute_result",
          "data": {
            "text/plain": [
              "['__bool__',\n",
              " '__class__',\n",
              " '__contains__',\n",
              " '__copy__',\n",
              " '__deepcopy__',\n",
              " '__delattr__',\n",
              " '__delitem__',\n",
              " '__dict__',\n",
              " '__dir__',\n",
              " '__doc__',\n",
              " '__eq__',\n",
              " '__format__',\n",
              " '__ge__',\n",
              " '__getattribute__',\n",
              " '__getitem__',\n",
              " '__gt__',\n",
              " '__hash__',\n",
              " '__init__',\n",
              " '__init_subclass__',\n",
              " '__iter__',\n",
              " '__le__',\n",
              " '__len__',\n",
              " '__lt__',\n",
              " '__module__',\n",
              " '__ne__',\n",
              " '__new__',\n",
              " '__reduce__',\n",
              " '__reduce_ex__',\n",
              " '__repr__',\n",
              " '__reversed__',\n",
              " '__setattr__',\n",
              " '__setitem__',\n",
              " '__sizeof__',\n",
              " '__str__',\n",
              " '__subclasshook__',\n",
              " '__weakref__',\n",
              " '_init',\n",
              " 'addnext',\n",
              " 'addprevious',\n",
              " 'append',\n",
              " 'attrib',\n",
              " 'base',\n",
              " 'base_url',\n",
              " 'body',\n",
              " 'classes',\n",
              " 'clear',\n",
              " 'cssselect',\n",
              " 'drop_tag',\n",
              " 'drop_tree',\n",
              " 'extend',\n",
              " 'find',\n",
              " 'find_class',\n",
              " 'find_rel_links',\n",
              " 'findall',\n",
              " 'findtext',\n",
              " 'forms',\n",
              " 'get',\n",
              " 'get_element_by_id',\n",
              " 'getchildren',\n",
              " 'getiterator',\n",
              " 'getnext',\n",
              " 'getparent',\n",
              " 'getprevious',\n",
              " 'getroottree',\n",
              " 'head',\n",
              " 'index',\n",
              " 'insert',\n",
              " 'items',\n",
              " 'iter',\n",
              " 'iterancestors',\n",
              " 'iterchildren',\n",
              " 'iterdescendants',\n",
              " 'iterfind',\n",
              " 'iterlinks',\n",
              " 'itersiblings',\n",
              " 'itertext',\n",
              " 'keys',\n",
              " 'label',\n",
              " 'make_links_absolute',\n",
              " 'makeelement',\n",
              " 'nsmap',\n",
              " 'prefix',\n",
              " 'remove',\n",
              " 'replace',\n",
              " 'resolve_base_href',\n",
              " 'rewrite_links',\n",
              " 'set',\n",
              " 'sourceline',\n",
              " 'tag',\n",
              " 'tail',\n",
              " 'text',\n",
              " 'text_content',\n",
              " 'values',\n",
              " 'xpath']"
            ]
          },
          "metadata": {
            "tags": []
          },
          "execution_count": 10
        }
      ]
    },
    {
      "cell_type": "code",
      "metadata": {
        "id": "QogXmlUdXcNi",
        "colab": {
          "base_uri": "https://localhost:8080/",
          "height": 35
        },
        "outputId": "b05842e0-48fc-44dc-b899-600b9115653e"
      },
      "source": [
        "#show the text context\n",
        "obj1.text_content()"
      ],
      "execution_count": 11,
      "outputs": [
        {
          "output_type": "execute_result",
          "data": {
            "application/vnd.google.colaboratory.intrinsic+json": {
              "type": "string"
            },
            "text/plain": [
              "'Menuplan'"
            ]
          },
          "metadata": {
            "tags": []
          },
          "execution_count": 11
        }
      ]
    },
    {
      "cell_type": "markdown",
      "metadata": {
        "id": "FLo5m_kAVIza"
      },
      "source": [
        "We can put that in a better structure and use xpath"
      ]
    },
    {
      "cell_type": "code",
      "metadata": {
        "id": "QyG1L4cBH_vh"
      },
      "source": [
        "mensaTree=etree.HTML(str(mensaPlan.content)[2:])"
      ],
      "execution_count": 12,
      "outputs": []
    },
    {
      "cell_type": "markdown",
      "metadata": {
        "id": "iB-1L4BiX2Bs"
      },
      "source": [
        "Use a xpath expression to get a Menu item (e.g. Purple Hit Beef Burger)"
      ]
    },
    {
      "cell_type": "code",
      "metadata": {
        "id": "46KdtYQQIDra",
        "colab": {
          "base_uri": "https://localhost:8080/"
        },
        "outputId": "a6f73a76-bf40-497a-e909-bb36c8cdfecd"
      },
      "source": [
        "myXpathExpression = '//div[@id = \"menu-plan-tab1\"]/div/div/h2[@class =\"menu-title\"]' #TODO fill it\n",
        "# myXpathExpression = '//h1[@class =\"title\"]'\n",
        "results = [etree.tostring(tk) for tk in mensaTree.xpath(myXpathExpression)]\n",
        "print(results)"
      ],
      "execution_count": 54,
      "outputs": [
        {
          "output_type": "stream",
          "text": [
            "[b'<h2 class=\"menu-title\">Caesar Salad</h2>\\\\n\\\\t\\\\t\\\\t\\\\t\\\\t\\\\t\\\\t\\\\t\\\\t\\\\t', b'<h2 class=\"menu-title\">Schweins&#173;geschnetzeltes</h2>\\\\n\\\\t\\\\t\\\\t\\\\t\\\\t\\\\t\\\\t\\\\t\\\\t\\\\t', b'<h2 class=\"menu-title\">\\\\xc3\\\\x84lpler&#173;magronen</h2>\\\\n\\\\t\\\\t\\\\t\\\\t\\\\t\\\\t\\\\t\\\\t\\\\t\\\\t', b'<h2 class=\"menu-title\">Tomaten-Basilikum Suppe</h2>\\\\n\\\\t\\\\t\\\\t\\\\t\\\\t\\\\t\\\\t\\\\t\\\\t\\\\t']\n"
          ],
          "name": "stdout"
        }
      ]
    },
    {
      "cell_type": "markdown",
      "metadata": {
        "id": "fh-n4xOFlcC_"
      },
      "source": [
        ""
      ]
    },
    {
      "cell_type": "code",
      "metadata": {
        "id": "fJsF820ileS3"
      },
      "source": [
        "import IPython"
      ],
      "execution_count": 33,
      "outputs": []
    },
    {
      "cell_type": "markdown",
      "metadata": {
        "id": "2w8xJ6PiYIJ-"
      },
      "source": [
        "You can display the html in a nice way in a jupyter with following methods"
      ]
    },
    {
      "cell_type": "code",
      "metadata": {
        "id": "QrlWA0qVIH9d"
      },
      "source": [
        "import IPython\n",
        "myXpathExpression = '//div[@class = \"menu-plan-wrap\"]/div'\n",
        "# you might need to access some items in the array like  mensaTree.xpath(myXpathExpression)[0]\n",
        "# you also might need to check if it is a binary stream and then use .decode(\"utf-8\")\n",
        "# print(IPython.display.HTML(etree.tostring(mensaTree.xpath(myXpathExpression)[0]).decode(\"utf-8\")))\n",
        "# IPython.display.HTML(etree.tostring(mensaTree.xpath(myXpathExpression).decode(\"utf-8\")))\n"
      ],
      "execution_count": 53,
      "outputs": []
    },
    {
      "cell_type": "markdown",
      "metadata": {
        "id": "uwkOwwyaZtvO"
      },
      "source": [
        "you can show the text content"
      ]
    },
    {
      "cell_type": "code",
      "metadata": {
        "id": "HeiTlYdkIv0Z",
        "colab": {
          "base_uri": "https://localhost:8080/",
          "height": 35
        },
        "outputId": "88a81dd6-ed0c-4a7d-e6c4-3b32466f1726"
      },
      "source": [
        "mensaTree.xpath(myXpathExpression)[0].text"
      ],
      "execution_count": 43,
      "outputs": [
        {
          "output_type": "execute_result",
          "data": {
            "application/vnd.google.colaboratory.intrinsic+json": {
              "type": "string"
            },
            "text/plain": [
              "'Caesar Salad'"
            ]
          },
          "metadata": {
            "tags": []
          },
          "execution_count": 43
        }
      ]
    },
    {
      "cell_type": "markdown",
      "metadata": {
        "id": "_svjidRRaIsB"
      },
      "source": [
        "**JsonPath**\n",
        "\n",
        "\n",
        "Let's get some real world json data and save into a dictionary"
      ]
    },
    {
      "cell_type": "code",
      "metadata": {
        "id": "kGMjsWbmKlDw"
      },
      "source": [
        "github_req = requests.get(\"https://api.github.com?callback=foo\")\n",
        "import json\n",
        "github = json.loads(github_req.content)"
      ],
      "execution_count": 9,
      "outputs": []
    },
    {
      "cell_type": "code",
      "metadata": {
        "id": "_DRQBg-WMfN8",
        "colab": {
          "base_uri": "https://localhost:8080/",
          "height": 35
        },
        "outputId": "17f6b101-f585-46dc-d8f5-4e019bb40ddf"
      },
      "source": [
        "github[\"user_search_url\"]"
      ],
      "execution_count": 11,
      "outputs": [
        {
          "output_type": "execute_result",
          "data": {
            "application/vnd.google.colaboratory.intrinsic+json": {
              "type": "string"
            },
            "text/plain": [
              "'https://api.github.com/search/users?q={query}{&page,per_page,sort,order}'"
            ]
          },
          "metadata": {
            "tags": []
          },
          "execution_count": 11
        }
      ]
    },
    {
      "cell_type": "markdown",
      "metadata": {
        "id": "9dRHAsXgabWB"
      },
      "source": [
        "Usually json responses are also in form of list of json, as in the following example\n"
      ]
    },
    {
      "cell_type": "code",
      "metadata": {
        "id": "kBqME5hWMjb6"
      },
      "source": [
        "ggplot_req = requests.get(\"https://api.github.com/repos/hadley/ggplot2/issues\")"
      ],
      "execution_count": 12,
      "outputs": []
    },
    {
      "cell_type": "markdown",
      "metadata": {
        "id": "f26HKtPoanUh"
      },
      "source": [
        "For that we need to "
      ]
    },
    {
      "cell_type": "code",
      "metadata": {
        "id": "OHaCjOPSObB_",
        "colab": {
          "base_uri": "https://localhost:8080/"
        },
        "outputId": "e8b396f9-2aa2-473a-e31c-d60d43a2e8ce"
      },
      "source": [
        "!pip install jsonpath_ng"
      ],
      "execution_count": 14,
      "outputs": [
        {
          "output_type": "stream",
          "text": [
            "Collecting jsonpath_ng\n",
            "  Downloading https://files.pythonhosted.org/packages/4c/b7/3627068d9aa6b2d49af117eb3897770a5dbc6bb3f4c09ed56a9eb749438e/jsonpath_ng-1.5.3-py3-none-any.whl\n",
            "Collecting ply\n",
            "\u001b[?25l  Downloading https://files.pythonhosted.org/packages/a3/58/35da89ee790598a0700ea49b2a66594140f44dec458c07e8e3d4979137fc/ply-3.11-py2.py3-none-any.whl (49kB)\n",
            "\u001b[K     |████████████████████████████████| 51kB 7.5MB/s \n",
            "\u001b[?25hRequirement already satisfied: decorator in /usr/local/lib/python3.7/dist-packages (from jsonpath_ng) (4.4.2)\n",
            "Requirement already satisfied: six in /usr/local/lib/python3.7/dist-packages (from jsonpath_ng) (1.15.0)\n",
            "Installing collected packages: ply, jsonpath-ng\n",
            "Successfully installed jsonpath-ng-1.5.3 ply-3.11\n"
          ],
          "name": "stdout"
        }
      ]
    },
    {
      "cell_type": "code",
      "metadata": {
        "id": "dKLgS77IOQZb"
      },
      "source": [
        "from jsonpath_ng import jsonpath\n",
        "from jsonpath_ng.ext import parse\n",
        "import html"
      ],
      "execution_count": 61,
      "outputs": []
    },
    {
      "cell_type": "code",
      "metadata": {
        "id": "s5F7aoaIPUyV"
      },
      "source": [
        "#ggplot_dics=html.unescape(str(ggplot_req.content)[2:-2]).decode('string_escape')\n",
        "ggplot_dics=ggplot_req.content.decode('utf-8')"
      ],
      "execution_count": 16,
      "outputs": []
    },
    {
      "cell_type": "code",
      "metadata": {
        "id": "4oDsL-8KbFsv",
        "colab": {
          "base_uri": "https://localhost:8080/",
          "height": 35
        },
        "outputId": "4cb81b4e-e3e8-4e35-96d0-95ea67790d7d"
      },
      "source": [
        "c1=2422\n",
        "ggplot_dics[c1-15:c1+15]"
      ],
      "execution_count": 17,
      "outputs": [
        {
          "output_type": "execute_result",
          "data": {
            "application/vnd.google.colaboratory.intrinsic+json": {
              "type": "string"
            },
            "text/plain": [
              "'reprex package](https://reprex'"
            ]
          },
          "metadata": {
            "tags": []
          },
          "execution_count": 17
        }
      ]
    },
    {
      "cell_type": "code",
      "metadata": {
        "id": "QR5QHXwpOk8W"
      },
      "source": [
        "ggplot  = {\"content\":json.loads(ggplot_dics)}"
      ],
      "execution_count": 25,
      "outputs": []
    },
    {
      "cell_type": "code",
      "metadata": {
        "id": "gl_oxTZxOZUw",
        "colab": {
          "base_uri": "https://localhost:8080/"
        },
        "outputId": "eeeb767f-af7b-4aa3-9c56-0daecb9a365a"
      },
      "source": [
        "jsonpath_expression = parse('*..user.id')\n",
        "\n",
        "for match in jsonpath_expression.find(ggplot):\n",
        "    print(f'User id: {match.value}')"
      ],
      "execution_count": 27,
      "outputs": [
        {
          "output_type": "stream",
          "text": [
            "User id: 49372158\n",
            "User id: 3817450\n",
            "User id: 7499666\n",
            "User id: 15037603\n",
            "User id: 31279658\n",
            "User id: 5557093\n",
            "User id: 9857320\n",
            "User id: 1978793\n",
            "User id: 4773225\n",
            "User id: 64136872\n",
            "User id: 4773225\n",
            "User id: 13736321\n",
            "User id: 43342160\n",
            "User id: 4773225\n",
            "User id: 21158052\n",
            "User id: 1775316\n",
            "User id: 1978793\n",
            "User id: 11757474\n",
            "User id: 15105152\n",
            "User id: 4990832\n",
            "User id: 60670870\n",
            "User id: 6590141\n",
            "User id: 1105215\n",
            "User id: 38475991\n",
            "User id: 14003618\n",
            "User id: 15717151\n",
            "User id: 1978793\n",
            "User id: 2175487\n",
            "User id: 2146002\n",
            "User id: 4095204\n"
          ],
          "name": "stdout"
        }
      ]
    },
    {
      "cell_type": "code",
      "metadata": {
        "id": "vijl6XalOh9G",
        "colab": {
          "base_uri": "https://localhost:8080/"
        },
        "outputId": "fb20eb1f-053e-4b5d-c4c5-33c2c4b2f745"
      },
      "source": [
        "#TODO get author_association\n",
        "jsonpath_expression = parse('$..author_association')\n",
        "\n",
        "for match in jsonpath_expression.find(ggplot):\n",
        "    print(f'author_association: {match.value}')"
      ],
      "execution_count": 32,
      "outputs": [
        {
          "output_type": "stream",
          "text": [
            "author_association: CONTRIBUTOR\n",
            "author_association: NONE\n",
            "author_association: NONE\n",
            "author_association: NONE\n",
            "author_association: NONE\n",
            "author_association: NONE\n",
            "author_association: NONE\n",
            "author_association: MEMBER\n",
            "author_association: CONTRIBUTOR\n",
            "author_association: NONE\n",
            "author_association: CONTRIBUTOR\n",
            "author_association: NONE\n",
            "author_association: NONE\n",
            "author_association: CONTRIBUTOR\n",
            "author_association: NONE\n",
            "author_association: MEMBER\n",
            "author_association: MEMBER\n",
            "author_association: NONE\n",
            "author_association: NONE\n",
            "author_association: CONTRIBUTOR\n",
            "author_association: NONE\n",
            "author_association: NONE\n",
            "author_association: NONE\n",
            "author_association: NONE\n",
            "author_association: CONTRIBUTOR\n",
            "author_association: NONE\n",
            "author_association: MEMBER\n",
            "author_association: CONTRIBUTOR\n",
            "author_association: NONE\n",
            "author_association: NONE\n"
          ],
          "name": "stdout"
        }
      ]
    },
    {
      "cell_type": "code",
      "metadata": {
        "id": "V-Y8578MO7v1"
      },
      "source": [
        "ggplot"
      ],
      "execution_count": null,
      "outputs": []
    },
    {
      "cell_type": "code",
      "metadata": {
        "id": "iWVvoKaodCZo",
        "colab": {
          "base_uri": "https://localhost:8080/"
        },
        "outputId": "351c8297-1fd9-444c-c42a-f232e8e99591"
      },
      "source": [
        "data=\"\"\"[{\n",
        "  \"employees\": [\n",
        "    {\n",
        "      \"id\": 1,\n",
        "      \"name\": \"Pankaj\",\n",
        "      \"salary\": \"10000\"\n",
        "    },\n",
        "    {\n",
        "      \"name\": \"David\",\n",
        "      \"salary\": \"5000\",\n",
        "      \"id\": 2\n",
        "    }\n",
        "  ]\n",
        "}]\"\"\"\n",
        "json_data = json.loads(data)\n",
        "#print(json_data)\n",
        "\n",
        "jsonpath_expression = parse('employees[*].id')\n",
        "\n",
        "for match in jsonpath_expression.find(json_data[0]):\n",
        "    print(f'Employee id: {match.value}')"
      ],
      "execution_count": 59,
      "outputs": [
        {
          "output_type": "stream",
          "text": [
            "Employee id: 1\n",
            "Employee id: 2\n"
          ],
          "name": "stdout"
        }
      ]
    },
    {
      "cell_type": "code",
      "metadata": {
        "id": "aJYFwBxedYuc",
        "colab": {
          "base_uri": "https://localhost:8080/"
        },
        "outputId": "eedf0132-3e87-4348-ca21-34caff3b460d"
      },
      "source": [
        "#todo print the names and salary from the employees (in multiple ways)\n",
        "jsonpath_expression = parse('employees[*].[id,name]')\n",
        "\n",
        "for match in jsonpath_expression.find(json_data[0]):\n",
        "    if type(match.value) == int:\n",
        "      print(f'Employee id: {match.value}')\n",
        "    else:\n",
        "      print(f'Employee name: {match.value}')"
      ],
      "execution_count": 75,
      "outputs": [
        {
          "output_type": "stream",
          "text": [
            "Employee id: 1\n",
            "Employee name: Pankaj\n",
            "Employee id: 2\n",
            "Employee name: David\n"
          ],
          "name": "stdout"
        }
      ]
    },
    {
      "cell_type": "code",
      "metadata": {
        "id": "-4ItrbZ95BDs"
      },
      "source": [
        ""
      ],
      "execution_count": null,
      "outputs": []
    }
  ]
}