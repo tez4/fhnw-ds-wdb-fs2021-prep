{
 "cells": [
  {
   "cell_type": "markdown",
   "id": "bfa7ee90-ba1c-4b23-9c77-a41abf4f33a0",
   "metadata": {},
   "source": [
    "# Selecting elements with XPath using lxml"
   ]
  },
  {
   "cell_type": "code",
   "execution_count": 1,
   "id": "624bbc07-f7a6-46ec-a3db-9668cec8b3a0",
   "metadata": {},
   "outputs": [],
   "source": [
    "import requests\n",
    "import xml.etree.ElementTree as ET\n",
    "from lxml import etree\n",
    "from lxml import html\n",
    "from inspect import getmembers, isclass, isfunction"
   ]
  },
  {
   "cell_type": "markdown",
   "id": "a6370e7e-f45c-4f25-b037-96797d5fe9db",
   "metadata": {},
   "source": [
    "### Creating an xml file"
   ]
  },
  {
   "cell_type": "code",
   "execution_count": 2,
   "id": "a5c72f8b-21b8-4146-b641-7ac90d924472",
   "metadata": {},
   "outputs": [],
   "source": [
    "# create xml file\n",
    "url = \"https://fhnw.sv-restaurant.ch/de/menuplan/\"\n",
    "res = requests.get(url)\n",
    "if res.status_code == 200:\n",
    "    with open('menuplan.xml', 'w', encoding=\"utf-8\") as f:\n",
    "        f.write(res.text)"
   ]
  },
  {
   "cell_type": "markdown",
   "id": "5fd478d3-2e0a-4714-9663-c0348d5f260c",
   "metadata": {},
   "source": [
    "### Using etree to parse the xml file"
   ]
  },
  {
   "cell_type": "code",
   "execution_count": 3,
   "id": "3a2aa265-b316-46e5-a67e-f966a34a8fb3",
   "metadata": {},
   "outputs": [],
   "source": [
    "# get html from website\n",
    "mensaPlan = requests.get(\"https://fhnw.sv-restaurant.ch/de/menuplan/\")"
   ]
  },
  {
   "cell_type": "code",
   "execution_count": 4,
   "id": "3ac94734-3ea1-456a-9f4e-fe10ddfc106f",
   "metadata": {},
   "outputs": [],
   "source": [
    "# Put data in a decent structure and use xpath\n",
    "mensaTree=etree.HTML(str(mensaPlan.content.decode())[2:])"
   ]
  },
  {
   "cell_type": "code",
   "execution_count": 5,
   "id": "d687e6a6-551a-4f03-9647-93e2c83a072a",
   "metadata": {},
   "outputs": [],
   "source": [
    "# printing in a ugly way\n",
    "# print(etree.tostring(mensaTree, pretty_print = True))"
   ]
  },
  {
   "cell_type": "code",
   "execution_count": 6,
   "id": "2ee419f3-516d-4dfb-b875-05e2f901e0a7",
   "metadata": {},
   "outputs": [
    {
     "name": "stdout",
     "output_type": "stream",
     "text": [
      "[['Frische Pasta', 'Rindfleischvogel', 'Quorn Southern Fried Bites', 'Pilzcreme Suppe'], ['Schweizer Pouletbrust', 'Kalbshacksteak', 'Gemüselasagne', 'Geflügel-Kerbel Suppe'], ['Fish and Chips', 'Truthahnschnitzel', 'Frühlingsrollen', 'Spargel Suppe'], ['Vegi Kebab aus Seitan', 'MSC-Schlemmerfilet Bordelaise', 'Medaglioni', 'Gersten Suppe']]\n"
     ]
    }
   ],
   "source": [
    "menu = []\n",
    "\n",
    "for i in range(1,6):\n",
    "    xpath_expr = f'//div[@id = \"menu-plan-tab{i}\"]/div/div/h2[@class =\"menu-title\"]'\n",
    "    results = [tk.text for tk in mensaTree.xpath(xpath_expr)]\n",
    "    for j in range(len(results)):\n",
    "        results[j] = results[j].replace('\\xad', '')\n",
    "    if (len(results)) != 0:\n",
    "        menu.append(results)\n",
    "    \n",
    "print(menu)"
   ]
  },
  {
   "cell_type": "code",
   "execution_count": 7,
   "id": "9338615d-b367-4a4b-8671-1598dfa67814",
   "metadata": {},
   "outputs": [],
   "source": [
    "menu_dict = {}\n",
    "\n",
    "for i in range(1,len(menu) + 1):\n",
    "    xpath_expr = f'//div[@class = \"day-nav\"]/ul/li[{i}]/label/span[2]'\n",
    "    results = [tk.text for tk in mensaTree.xpath(xpath_expr)]\n",
    "    daily_menu = {results[0]: menu[i - 1]}\n",
    "    menu_dict.update(daily_menu)"
   ]
  },
  {
   "cell_type": "code",
   "execution_count": 8,
   "id": "2e1e2d6b-7bf5-40cf-8af8-c9c215a40e26",
   "metadata": {},
   "outputs": [
    {
     "name": "stdout",
     "output_type": "stream",
     "text": [
      "['Frische Pasta', 'Rindfleischvogel', 'Quorn Southern Fried Bites', 'Pilzcreme Suppe']\n"
     ]
    }
   ],
   "source": [
    "# print tomorrows menu\n",
    "print(menu_dict['13.07.'])"
   ]
  },
  {
   "cell_type": "markdown",
   "id": "d4a8ab02-cd1d-49ef-9344-dd63a1f04ea0",
   "metadata": {},
   "source": [
    "### Get links to other pages"
   ]
  },
  {
   "cell_type": "markdown",
   "id": "17ec8980-23be-4272-b853-7fd3f1b7b83c",
   "metadata": {},
   "source": [
    "use /@href"
   ]
  },
  {
   "cell_type": "code",
   "execution_count": 9,
   "id": "0759630d-0432-466f-93d9-e515251650a8",
   "metadata": {},
   "outputs": [
    {
     "name": "stdout",
     "output_type": "stream",
     "text": [
      "['/de/menuplan/']\n",
      "['/de/catering/']\n",
      "['/de/frisch-gesund/']\n",
      "['/de/ueber-uns/']\n"
     ]
    }
   ],
   "source": [
    "i = 1\n",
    "running = True\n",
    "while running == True:\n",
    "    xpath_expr = f'//div[@class = \"footer-navigation\"]/nav[@class = \"footer-mainnav\"]/ul/li[{i}]/a/@href'\n",
    "    results = [tk for tk in mensaTree.xpath(xpath_expr)]\n",
    "    if len(results) > 0:\n",
    "        print(results)\n",
    "        i += 1\n",
    "    else:\n",
    "        running = False"
   ]
  },
  {
   "cell_type": "code",
   "execution_count": null,
   "id": "e5821b45-4f05-40c1-966f-9bbecf4a13f3",
   "metadata": {},
   "outputs": [],
   "source": []
  }
 ],
 "metadata": {
  "kernelspec": {
   "display_name": "Python 3",
   "language": "python",
   "name": "python3"
  },
  "language_info": {
   "codemirror_mode": {
    "name": "ipython",
    "version": 3
   },
   "file_extension": ".py",
   "mimetype": "text/x-python",
   "name": "python",
   "nbconvert_exporter": "python",
   "pygments_lexer": "ipython3",
   "version": "3.8.10"
  }
 },
 "nbformat": 4,
 "nbformat_minor": 5
}
