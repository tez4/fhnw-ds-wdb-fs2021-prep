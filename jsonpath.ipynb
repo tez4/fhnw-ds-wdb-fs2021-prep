{
 "cells": [
  {
   "cell_type": "markdown",
   "id": "9adaa9c9-250e-46a7-92e3-b742bea43aed",
   "metadata": {},
   "source": [
    "# Querying Files and Webpages using JSON-Path"
   ]
  },
  {
   "cell_type": "code",
   "execution_count": 1,
   "id": "7b3055c1-e414-4e33-bea4-c811ed195874",
   "metadata": {},
   "outputs": [],
   "source": [
    "import json\n",
    "import requests\n",
    "from jsonpath_ng import jsonpath\n",
    "from jsonpath_ng.ext import parse"
   ]
  },
  {
   "cell_type": "code",
   "execution_count": 2,
   "id": "cb8f4e51-d1aa-4a53-be6d-23a7e7142576",
   "metadata": {},
   "outputs": [
    {
     "data": {
      "text/plain": [
       "dict"
      ]
     },
     "execution_count": 2,
     "metadata": {},
     "output_type": "execute_result"
    }
   ],
   "source": [
    "# read json file as dict\n",
    "with open('quiz.json') as json_file:\n",
    "    data = json.load(json_file)\n",
    "\n",
    "type(data)"
   ]
  },
  {
   "cell_type": "code",
   "execution_count": 3,
   "id": "d149574a-474c-493d-84c2-292d11169013",
   "metadata": {},
   "outputs": [
    {
     "data": {
      "text/plain": [
       "{'quiz': {'sport': {'q1': {'question': 'Which one is correct team name in NBA?',\n",
       "    'options': ['New York Bulls',\n",
       "     'Los Angeles Kings',\n",
       "     'Golden State Warriros',\n",
       "     'Huston Rocket'],\n",
       "    'answer': 'Huston Rocket'}},\n",
       "  'maths': {'q1': {'question': '5 + 7 = ?',\n",
       "    'options': ['10', '11', '12', '13'],\n",
       "    'answer': '12'},\n",
       "   'q2': {'question': '12 - 8 = ?',\n",
       "    'options': ['1', '2', '3', '4'],\n",
       "    'answer': '4'}}}}"
      ]
     },
     "execution_count": 3,
     "metadata": {},
     "output_type": "execute_result"
    }
   ],
   "source": [
    "data"
   ]
  },
  {
   "cell_type": "code",
   "execution_count": 4,
   "id": "549dffa7-4ac2-4b55-9ad0-662229fc6f80",
   "metadata": {},
   "outputs": [
    {
     "data": {
      "text/plain": [
       "[{'question': 'Which one is correct team name in NBA?',\n",
       "  'options': ['New York Bulls',\n",
       "   'Los Angeles Kings',\n",
       "   'Golden State Warriros',\n",
       "   'Huston Rocket'],\n",
       "  'answer': 'Huston Rocket'},\n",
       " {'question': '5 + 7 = ?',\n",
       "  'options': ['10', '11', '12', '13'],\n",
       "  'answer': '12'},\n",
       " {'question': '12 - 8 = ?', 'options': ['1', '2', '3', '4'], 'answer': '4'}]"
      ]
     },
     "execution_count": 4,
     "metadata": {},
     "output_type": "execute_result"
    }
   ],
   "source": [
    "jsonpath_expr = parse('quiz.*.*')\n",
    "result = [match.value for match in jsonpath_expr.find(data)]\n",
    "result"
   ]
  },
  {
   "cell_type": "code",
   "execution_count": 5,
   "id": "07ecd14f-4892-4292-b2b6-ecdd261357df",
   "metadata": {},
   "outputs": [
    {
     "data": {
      "text/plain": [
       "['10', '11', '12', '13']"
      ]
     },
     "execution_count": 5,
     "metadata": {},
     "output_type": "execute_result"
    }
   ],
   "source": [
    "jsonpath_expr = parse('$.quiz.maths.q1.options[*]')\n",
    "result = [match.value for match in jsonpath_expr.find(data)]\n",
    "result"
   ]
  },
  {
   "cell_type": "code",
   "execution_count": 6,
   "id": "8b29917a-8f94-4860-a2a2-134fa2ff9f98",
   "metadata": {},
   "outputs": [
    {
     "data": {
      "text/plain": [
       "['12', '13']"
      ]
     },
     "execution_count": 6,
     "metadata": {},
     "output_type": "execute_result"
    }
   ],
   "source": [
    "jsonpath_expr = parse('$.quiz.maths.q1.options[?(@ >= 12)]')\n",
    "result = [match.value for match in jsonpath_expr.find(data)]\n",
    "result"
   ]
  },
  {
   "cell_type": "code",
   "execution_count": 7,
   "id": "6546f455-cd3c-447d-87f0-c11c74b293b3",
   "metadata": {},
   "outputs": [
    {
     "data": {
      "text/plain": [
       "[{'question': '5 + 7 = ?',\n",
       "  'options': ['10', '11', '12', '13'],\n",
       "  'answer': '12'}]"
      ]
     },
     "execution_count": 7,
     "metadata": {},
     "output_type": "execute_result"
    }
   ],
   "source": [
    "jsonpath_expr = parse('$.quiz.*[?(@.question == \"5 + 7 = ?\")]')\n",
    "result = [match.value for match in jsonpath_expr.find(data)]\n",
    "result"
   ]
  },
  {
   "cell_type": "code",
   "execution_count": 8,
   "id": "30023a59-0d44-4bf4-beda-4157762ab3a1",
   "metadata": {},
   "outputs": [
    {
     "data": {
      "text/plain": [
       "[['13', '12', '11', '10'], ['4', '3', '2', '1']]"
      ]
     },
     "execution_count": 8,
     "metadata": {},
     "output_type": "execute_result"
    }
   ],
   "source": [
    "jsonpath_expr = parse('$.quiz.maths.*.options[\\@]') # orders elements in lists descending / for ascending\n",
    "result = [match.value for match in jsonpath_expr.find(data)]\n",
    "result"
   ]
  },
  {
   "cell_type": "code",
   "execution_count": 9,
   "id": "bb33c17b-afa1-4b29-820a-4f9a14421877",
   "metadata": {},
   "outputs": [
    {
     "data": {
      "text/plain": [
       "[{'question': 'Which one is correct team name in NBA?',\n",
       "  'options': ['New York Bulls',\n",
       "   'Los Angeles Kings',\n",
       "   'Golden State Warriros',\n",
       "   'Huston Rocket'],\n",
       "  'answer': 'Huston Rocket'},\n",
       " {'question': '12 - 8 = ?', 'options': ['1', '2', '3', '4'], 'answer': '4'}]"
      ]
     },
     "execution_count": 9,
     "metadata": {},
     "output_type": "execute_result"
    }
   ],
   "source": [
    "jsonpath_expr = parse('$.quiz.*[?(@.answer != \"12\")]')\n",
    "result = [match.value for match in jsonpath_expr.find(data)]\n",
    "result"
   ]
  },
  {
   "cell_type": "code",
   "execution_count": 10,
   "id": "dc15c7cb-ed11-4963-94bb-e8251d9c04cc",
   "metadata": {},
   "outputs": [
    {
     "data": {
      "text/plain": [
       "[['New York Bulls',\n",
       "  'Los Angeles Kings',\n",
       "  'Huston Rocket',\n",
       "  'Golden State Warriros'],\n",
       " ['13', '12', '11', '10'],\n",
       " ['4', '3', '2', '1']]"
      ]
     },
     "execution_count": 10,
     "metadata": {},
     "output_type": "execute_result"
    }
   ],
   "source": [
    "jsonpath_expr = parse('$..options[\\@]') # orders elements in lists descending / for ascending\n",
    "result = [match.value for match in jsonpath_expr.find(data)]\n",
    "result"
   ]
  },
  {
   "cell_type": "markdown",
   "id": "f0a89c94-fc6f-48d3-a0ce-087082754f50",
   "metadata": {},
   "source": [
    "### nbagames.json"
   ]
  },
  {
   "cell_type": "code",
   "execution_count": 11,
   "id": "4d410548-6ed9-42d3-8f93-fafd6cc03eb5",
   "metadata": {},
   "outputs": [
    {
     "data": {
      "text/plain": [
       "dict"
      ]
     },
     "execution_count": 11,
     "metadata": {},
     "output_type": "execute_result"
    }
   ],
   "source": [
    "# read json file as dict\n",
    "with open('nba.json') as json_file: #, encoding=\"utf-8\"\n",
    "    data = json.load(json_file)\n",
    "\n",
    "type(data)"
   ]
  },
  {
   "cell_type": "code",
   "execution_count": 12,
   "id": "ba41ab3d-bd9c-47b6-8ffd-952bba75190e",
   "metadata": {},
   "outputs": [
    {
     "data": {
      "text/plain": [
       "dict_keys(['_id', 'teams', 'date'])"
      ]
     },
     "execution_count": 12,
     "metadata": {},
     "output_type": "execute_result"
    }
   ],
   "source": [
    "data['games'][0].keys()"
   ]
  },
  {
   "cell_type": "code",
   "execution_count": 13,
   "id": "3e75f34c-c641-4c3a-92df-1f366254bf24",
   "metadata": {},
   "outputs": [
    {
     "data": {
      "text/plain": [
       "dict_keys(['name', 'abbreviation', 'score', 'home', 'won', 'results', 'players', 'city'])"
      ]
     },
     "execution_count": 13,
     "metadata": {},
     "output_type": "execute_result"
    }
   ],
   "source": [
    "data['games'][0]['teams'][0].keys()"
   ]
  },
  {
   "cell_type": "code",
   "execution_count": 14,
   "id": "510ab2d3-a5c3-4d3e-a5db-dc44ae3083d0",
   "metadata": {},
   "outputs": [
    {
     "data": {
      "text/plain": [
       "'1985-10-25T04:00:00.000+0000'"
      ]
     },
     "execution_count": 14,
     "metadata": {},
     "output_type": "execute_result"
    }
   ],
   "source": [
    "data['games'][0]['date']['$date']"
   ]
  },
  {
   "cell_type": "code",
   "execution_count": 15,
   "id": "f3e79747-29a2-4ecf-afd1-f7ef66c38465",
   "metadata": {},
   "outputs": [
    {
     "data": {
      "text/plain": [
       "['Washington Bullets']"
      ]
     },
     "execution_count": 15,
     "metadata": {},
     "output_type": "execute_result"
    }
   ],
   "source": [
    "jsonpath_expr = parse('$..teams[?(@..city == \"Washington\")].name')\n",
    "result = [match.value for match in jsonpath_expr.find(data)]\n",
    "result"
   ]
  },
  {
   "cell_type": "code",
   "execution_count": 16,
   "id": "e479e40f-5b1c-44ce-87b9-b30eaffdfa85",
   "metadata": {},
   "outputs": [
    {
     "name": "stdout",
     "output_type": "stream",
     "text": [
      "[1, 0]\n",
      "Winning percentage: 50%\n"
     ]
    }
   ],
   "source": [
    "jsonpath_expr = parse('$.games[?(@..name == \"Golden State Warriors\")]..won')\n",
    "result = [match.value for match in jsonpath_expr.find(data)]\n",
    "print(result)\n",
    "print(f'Winning percentage: {round(sum(result) / len(result) * 100)}%')"
   ]
  },
  {
   "cell_type": "markdown",
   "id": "db03fb31-53ee-4272-9264-8251e01150d0",
   "metadata": {},
   "source": [
    "### Parsing Website"
   ]
  },
  {
   "cell_type": "code",
   "execution_count": 17,
   "id": "30b7deaa-16df-40bc-b154-a2d783842e87",
   "metadata": {},
   "outputs": [],
   "source": [
    "ggplot_req = requests.get(\"https://api.github.com/repos/hadley/ggplot2/issues\")"
   ]
  },
  {
   "cell_type": "code",
   "execution_count": 18,
   "id": "0ddf74cd-98a9-41e8-8f19-0ddc23aeeaff",
   "metadata": {},
   "outputs": [],
   "source": [
    "# create string of a list\n",
    "ggplot_dics=ggplot_req.content.decode('utf-8')"
   ]
  },
  {
   "cell_type": "code",
   "execution_count": 19,
   "id": "8a283a82-2ab5-441c-a561-4a5a85914cde",
   "metadata": {},
   "outputs": [],
   "source": [
    "# create dictionary\n",
    "data = {\"content\":json.loads(ggplot_dics)}"
   ]
  },
  {
   "cell_type": "code",
   "execution_count": 20,
   "id": "c881f7ca-9eef-45f3-8036-d89f4ffc457b",
   "metadata": {},
   "outputs": [
    {
     "name": "stdout",
     "output_type": "stream",
     "text": [
      "User id: 30030254\n",
      "User id: 49372158\n",
      "User id: 3817450\n",
      "User id: 7499666\n",
      "User id: 31279658\n",
      "User id: 5557093\n",
      "User id: 9857320\n",
      "User id: 1978793\n",
      "User id: 4773225\n",
      "User id: 64136872\n",
      "User id: 4773225\n",
      "User id: 13736321\n",
      "User id: 43342160\n",
      "User id: 4773225\n",
      "User id: 21158052\n",
      "User id: 1978793\n",
      "User id: 11757474\n",
      "User id: 15105152\n",
      "User id: 4990832\n",
      "User id: 60670870\n",
      "User id: 6590141\n",
      "User id: 1105215\n",
      "User id: 38475991\n",
      "User id: 14003618\n",
      "User id: 15717151\n",
      "User id: 1978793\n",
      "User id: 2175487\n",
      "User id: 2146002\n",
      "User id: 4095204\n",
      "User id: 4877315\n"
     ]
    }
   ],
   "source": [
    "# query using jsonpath expression\n",
    "jsonpath_expression = parse('*..user.id')\n",
    "\n",
    "for match in jsonpath_expression.find(data):\n",
    "    print(f'User id: {match.value}')"
   ]
  },
  {
   "cell_type": "code",
   "execution_count": 21,
   "id": "7edb2a29-f6d0-448d-8e5b-236eb4f6b883",
   "metadata": {},
   "outputs": [
    {
     "name": "stdout",
     "output_type": "stream",
     "text": [
      "author_association: NONE\n",
      "author_association: CONTRIBUTOR\n",
      "author_association: NONE\n",
      "author_association: NONE\n",
      "author_association: NONE\n",
      "author_association: NONE\n",
      "author_association: NONE\n",
      "author_association: MEMBER\n",
      "author_association: CONTRIBUTOR\n",
      "author_association: NONE\n",
      "author_association: CONTRIBUTOR\n",
      "author_association: NONE\n",
      "author_association: NONE\n",
      "author_association: CONTRIBUTOR\n",
      "author_association: NONE\n",
      "author_association: MEMBER\n",
      "author_association: NONE\n",
      "author_association: NONE\n",
      "author_association: CONTRIBUTOR\n",
      "author_association: NONE\n",
      "author_association: NONE\n",
      "author_association: NONE\n",
      "author_association: NONE\n",
      "author_association: CONTRIBUTOR\n",
      "author_association: NONE\n",
      "author_association: MEMBER\n",
      "author_association: CONTRIBUTOR\n",
      "author_association: NONE\n",
      "author_association: NONE\n",
      "author_association: CONTRIBUTOR\n"
     ]
    }
   ],
   "source": [
    "jsonpath_expression = parse('$..author_association')\n",
    "\n",
    "for match in jsonpath_expression.find(data):\n",
    "    print(f'author_association: {match.value}')"
   ]
  },
  {
   "cell_type": "code",
   "execution_count": 22,
   "id": "3d8b4a81-94c7-4aad-afe0-f7a2602ab3ce",
   "metadata": {},
   "outputs": [],
   "source": [
    "data=\"\"\"[{\n",
    "  \"employees\": [\n",
    "    {\n",
    "      \"id\": 1,\n",
    "      \"name\": \"Pankaj\",\n",
    "      \"salary\": \"10000\"\n",
    "    },\n",
    "    {\n",
    "      \"name\": \"David\",\n",
    "      \"salary\": \"5000\",\n",
    "      \"id\": 2\n",
    "    }\n",
    "  ]\n",
    "}]\"\"\"\n",
    "data = json.loads(data)"
   ]
  },
  {
   "cell_type": "code",
   "execution_count": 23,
   "id": "afcf07bf-c171-4c82-b0e6-4bb616923e93",
   "metadata": {},
   "outputs": [
    {
     "name": "stdout",
     "output_type": "stream",
     "text": [
      "Employee id: 1\n",
      "Employee name: Pankaj\n",
      "Employee id: 2\n",
      "Employee name: David\n"
     ]
    }
   ],
   "source": [
    "jsonpath_expression = parse('employees[*].[id,name]')\n",
    "\n",
    "for match in jsonpath_expression.find(data[0]):\n",
    "    if type(match.value) == int:\n",
    "        print(f'Employee id: {match.value}')\n",
    "    else:\n",
    "        print(f'Employee name: {match.value}')"
   ]
  },
  {
   "cell_type": "code",
   "execution_count": 24,
   "id": "2495bb5b-07df-4b9f-83fd-cd1bfeeefb0f",
   "metadata": {},
   "outputs": [
    {
     "name": "stdout",
     "output_type": "stream",
     "text": [
      "Employee 1: Pankaj\n",
      "Employee 2: David\n"
     ]
    }
   ],
   "source": [
    "emp_ids = parse('employees[*].[id]')\n",
    "\n",
    "for emp_id in emp_ids.find(data[0]):\n",
    "    emp_names = parse(f'$..employees[?(@.id == {emp_id.value})].name')\n",
    "    for emp_name in emp_names.find(data[0]):\n",
    "        print(f'Employee {emp_id.value}: {emp_name.value}')"
   ]
  },
  {
   "cell_type": "markdown",
   "id": "22702748-5e53-4b17-8c3d-78326939c65c",
   "metadata": {},
   "source": [
    "### Use this for help"
   ]
  },
  {
   "cell_type": "markdown",
   "id": "99386217-9319-4809-a07c-0d3f587c5ac1",
   "metadata": {},
   "source": [
    "http://jsonpath.com/"
   ]
  },
  {
   "cell_type": "code",
   "execution_count": null,
   "id": "14621041-ddc9-48bf-94e1-f1e0352084c8",
   "metadata": {},
   "outputs": [],
   "source": []
  }
 ],
 "metadata": {
  "kernelspec": {
   "display_name": "Python 3",
   "language": "python",
   "name": "python3"
  },
  "language_info": {
   "codemirror_mode": {
    "name": "ipython",
    "version": 3
   },
   "file_extension": ".py",
   "mimetype": "text/x-python",
   "name": "python",
   "nbconvert_exporter": "python",
   "pygments_lexer": "ipython3",
   "version": "3.8.10"
  }
 },
 "nbformat": 4,
 "nbformat_minor": 5
}
