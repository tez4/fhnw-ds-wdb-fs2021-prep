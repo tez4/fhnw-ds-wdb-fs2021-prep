{
 "cells": [
  {
   "cell_type": "markdown",
   "id": "9adaa9c9-250e-46a7-92e3-b742bea43aed",
   "metadata": {},
   "source": [
    "# Querying Files using JSON-Path"
   ]
  },
  {
   "cell_type": "code",
   "execution_count": 1,
   "id": "7b3055c1-e414-4e33-bea4-c811ed195874",
   "metadata": {},
   "outputs": [],
   "source": [
    "import json\n",
    "from jsonpath_ng import jsonpath\n",
    "from jsonpath_ng.ext import parse"
   ]
  },
  {
   "cell_type": "code",
   "execution_count": 2,
   "id": "cb8f4e51-d1aa-4a53-be6d-23a7e7142576",
   "metadata": {},
   "outputs": [
    {
     "data": {
      "text/plain": [
       "dict"
      ]
     },
     "execution_count": 2,
     "metadata": {},
     "output_type": "execute_result"
    }
   ],
   "source": [
    "# read json file as dict\n",
    "with open('quiz.json') as json_file:\n",
    "    data = json.load(json_file)\n",
    "\n",
    "type(data)"
   ]
  },
  {
   "cell_type": "code",
   "execution_count": 3,
   "id": "d149574a-474c-493d-84c2-292d11169013",
   "metadata": {},
   "outputs": [
    {
     "data": {
      "text/plain": [
       "'5 + 7 = ?'"
      ]
     },
     "execution_count": 3,
     "metadata": {},
     "output_type": "execute_result"
    }
   ],
   "source": [
    "data['quiz']['maths']['q1']['question']"
   ]
  },
  {
   "cell_type": "code",
   "execution_count": 4,
   "id": "549dffa7-4ac2-4b55-9ad0-662229fc6f80",
   "metadata": {},
   "outputs": [
    {
     "data": {
      "text/plain": [
       "[{'question': 'Which one is correct team name in NBA?',\n",
       "  'options': ['New York Bulls',\n",
       "   'Los Angeles Kings',\n",
       "   'Golden State Warriros',\n",
       "   'Huston Rocket'],\n",
       "  'answer': 'Huston Rocket'},\n",
       " {'question': '5 + 7 = ?',\n",
       "  'options': ['10', '11', '12', '13'],\n",
       "  'answer': '12'},\n",
       " {'question': '12 - 8 = ?', 'options': ['1', '2', '3', '4'], 'answer': '4'}]"
      ]
     },
     "execution_count": 4,
     "metadata": {},
     "output_type": "execute_result"
    }
   ],
   "source": [
    "jsonpath_expr = parse('quiz.*.*')\n",
    "result = [match.value for match in jsonpath_expr.find(data)]\n",
    "result"
   ]
  },
  {
   "cell_type": "code",
   "execution_count": 5,
   "id": "07ecd14f-4892-4292-b2b6-ecdd261357df",
   "metadata": {},
   "outputs": [
    {
     "data": {
      "text/plain": [
       "['10', '11', '12', '13']"
      ]
     },
     "execution_count": 5,
     "metadata": {},
     "output_type": "execute_result"
    }
   ],
   "source": [
    "jsonpath_expr = parse('$.quiz.maths.q1.options[*]')\n",
    "result = [match.value for match in jsonpath_expr.find(data)]\n",
    "result"
   ]
  },
  {
   "cell_type": "code",
   "execution_count": 6,
   "id": "8b29917a-8f94-4860-a2a2-134fa2ff9f98",
   "metadata": {},
   "outputs": [
    {
     "data": {
      "text/plain": [
       "['12', '13']"
      ]
     },
     "execution_count": 6,
     "metadata": {},
     "output_type": "execute_result"
    }
   ],
   "source": [
    "jsonpath_expr = parse('$.quiz.maths.q1.options[?(@ >= 12)]')\n",
    "result = [match.value for match in jsonpath_expr.find(data)]\n",
    "result"
   ]
  },
  {
   "cell_type": "code",
   "execution_count": 7,
   "id": "6546f455-cd3c-447d-87f0-c11c74b293b3",
   "metadata": {},
   "outputs": [
    {
     "data": {
      "text/plain": [
       "[{'question': '5 + 7 = ?',\n",
       "  'options': ['10', '11', '12', '13'],\n",
       "  'answer': '12'}]"
      ]
     },
     "execution_count": 7,
     "metadata": {},
     "output_type": "execute_result"
    }
   ],
   "source": [
    "jsonpath_expr = parse('$.quiz.*[?(@.question == \"5 + 7 = ?\")]')\n",
    "result = [match.value for match in jsonpath_expr.find(data)]\n",
    "result"
   ]
  },
  {
   "cell_type": "code",
   "execution_count": 8,
   "id": "30023a59-0d44-4bf4-beda-4157762ab3a1",
   "metadata": {},
   "outputs": [
    {
     "data": {
      "text/plain": [
       "[['13', '12', '11', '10'], ['4', '3', '2', '1']]"
      ]
     },
     "execution_count": 8,
     "metadata": {},
     "output_type": "execute_result"
    }
   ],
   "source": [
    "jsonpath_expr = parse('$.quiz.maths.*.options[\\@]') # orders elements in lists descending / for ascending\n",
    "result = [match.value for match in jsonpath_expr.find(data)]\n",
    "result"
   ]
  },
  {
   "cell_type": "code",
   "execution_count": 9,
   "id": "bb33c17b-afa1-4b29-820a-4f9a14421877",
   "metadata": {},
   "outputs": [
    {
     "data": {
      "text/plain": [
       "[{'question': 'Which one is correct team name in NBA?',\n",
       "  'options': ['New York Bulls',\n",
       "   'Los Angeles Kings',\n",
       "   'Golden State Warriros',\n",
       "   'Huston Rocket'],\n",
       "  'answer': 'Huston Rocket'},\n",
       " {'question': '12 - 8 = ?', 'options': ['1', '2', '3', '4'], 'answer': '4'}]"
      ]
     },
     "execution_count": 9,
     "metadata": {},
     "output_type": "execute_result"
    }
   ],
   "source": [
    "jsonpath_expr = parse('$.quiz.*[?(@.answer != \"12\")]') # orders elements in lists descending / for ascending\n",
    "result = [match.value for match in jsonpath_expr.find(data)]\n",
    "result"
   ]
  },
  {
   "cell_type": "code",
   "execution_count": null,
   "id": "dc15c7cb-ed11-4963-94bb-e8251d9c04cc",
   "metadata": {},
   "outputs": [],
   "source": []
  }
 ],
 "metadata": {
  "kernelspec": {
   "display_name": "Python 3",
   "language": "python",
   "name": "python3"
  },
  "language_info": {
   "codemirror_mode": {
    "name": "ipython",
    "version": 3
   },
   "file_extension": ".py",
   "mimetype": "text/x-python",
   "name": "python",
   "nbconvert_exporter": "python",
   "pygments_lexer": "ipython3",
   "version": "3.8.10"
  }
 },
 "nbformat": 4,
 "nbformat_minor": 5
}
