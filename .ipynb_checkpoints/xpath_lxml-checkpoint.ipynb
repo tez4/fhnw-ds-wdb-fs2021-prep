{
 "cells": [
  {
   "cell_type": "markdown",
   "id": "bfa7ee90-ba1c-4b23-9c77-a41abf4f33a0",
   "metadata": {},
   "source": [
    "# Selecting elements with XPath using lxml"
   ]
  },
  {
   "cell_type": "code",
   "execution_count": 1,
   "id": "624bbc07-f7a6-46ec-a3db-9668cec8b3a0",
   "metadata": {},
   "outputs": [],
   "source": [
    "import requests\n",
    "from lxml import etree\n",
    "from lxml import html"
   ]
  },
  {
   "cell_type": "code",
   "execution_count": 2,
   "id": "3a2aa265-b316-46e5-a67e-f966a34a8fb3",
   "metadata": {},
   "outputs": [],
   "source": [
    "# get html from website\n",
    "mensaPlan = requests.get(\"https://fhnw.sv-restaurant.ch/de/menuplan/\")"
   ]
  },
  {
   "cell_type": "code",
   "execution_count": 3,
   "id": "3ac94734-3ea1-456a-9f4e-fe10ddfc106f",
   "metadata": {},
   "outputs": [],
   "source": [
    "# Put data in a decent structure and use xpath\n",
    "mensaTree=etree.HTML(str(mensaPlan.content.decode())[2:])"
   ]
  },
  {
   "cell_type": "code",
   "execution_count": 4,
   "id": "2ee419f3-516d-4dfb-b875-05e2f901e0a7",
   "metadata": {},
   "outputs": [
    {
     "name": "stdout",
     "output_type": "stream",
     "text": [
      "['Caesar Salad', 'Schweinsgeschnetzeltes', 'Älplermagronen', 'Tomaten-Basilikum Suppe']\n",
      "['Frische Pasta', 'Rindfleischvogel', 'Quorn Southern Fried Bites', 'Pilzcreme Suppe']\n",
      "['Schweizer Pouletbrust', 'Kalbshacksteak', 'Gemüselasagne', 'Geflügel-Kerbel Suppe']\n",
      "['Fish and Chips', 'Truthahnschnitzel', 'Frühlingsrollen', 'Spargel Suppe']\n",
      "['Vegi Kebab aus Seitan', 'MSC-Schlemmerfilet Bordelaise', 'Medaglioni', 'Gersten Suppe']\n"
     ]
    }
   ],
   "source": [
    "menu = []\n",
    "\n",
    "for i in range(1,6):\n",
    "    xpath_expr = f'//div[@id = \"menu-plan-tab{i}\"]/div/div/h2[@class =\"menu-title\"]'\n",
    "    results = [tk.text for tk in mensaTree.xpath(xpath_expr)]\n",
    "    for j in range(len(results)):\n",
    "        results[j] = results[j].replace('\\xad', '')\n",
    "    menu.append(results)\n",
    "    print(results)\n"
   ]
  },
  {
   "cell_type": "code",
   "execution_count": null,
   "id": "9338615d-b367-4a4b-8671-1598dfa67814",
   "metadata": {},
   "outputs": [],
   "source": []
  }
 ],
 "metadata": {
  "kernelspec": {
   "display_name": "Python 3",
   "language": "python",
   "name": "python3"
  },
  "language_info": {
   "codemirror_mode": {
    "name": "ipython",
    "version": 3
   },
   "file_extension": ".py",
   "mimetype": "text/x-python",
   "name": "python",
   "nbconvert_exporter": "python",
   "pygments_lexer": "ipython3",
   "version": "3.8.10"
  }
 },
 "nbformat": 4,
 "nbformat_minor": 5
}
