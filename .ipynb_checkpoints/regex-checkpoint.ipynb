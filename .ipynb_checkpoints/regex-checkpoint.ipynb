{
 "cells": [
  {
   "cell_type": "markdown",
   "id": "acc34711-4235-4669-9db5-960d9941a6e9",
   "metadata": {},
   "source": [
    "# RegEx in Python"
   ]
  },
  {
   "cell_type": "code",
   "execution_count": 1,
   "id": "22773e2a-6c49-4e4a-9216-a1af6c59b6f0",
   "metadata": {},
   "outputs": [
    {
     "name": "stdout",
     "output_type": "stream",
     "text": [
      "re: 2.2.1\n"
     ]
    }
   ],
   "source": [
    "import re\n",
    "\n",
    "print('re: {}'.format(re.__version__))"
   ]
  },
  {
   "cell_type": "markdown",
   "id": "e183f0ee-e2ef-43e5-b66c-b9fe93bd5127",
   "metadata": {},
   "source": [
    "### search: find first location that matches within string"
   ]
  },
  {
   "cell_type": "code",
   "execution_count": 2,
   "id": "abab7ef0-6eea-4e55-adf3-9837248787f6",
   "metadata": {},
   "outputs": [],
   "source": [
    "log = [\n",
    "    'W/dalvikvm( 1553): threadid=1: uncaught exception',\n",
    "    'E/( 1553): FATAL EXCEPTION: main',\n",
    "    'E/( 1553): java.lang.StringIndexOutOfBoundsException',\n",
    "    'E/( 1553):   at widget.List.makeView(ListView.java:1727)',\n",
    "    'E/( 1553):   at widget.List.fillDown(ListView.java:652)',\n",
    "    'E/( 1553):   at widget.List.fillFrom(ListView.java:709)'\n",
    "]"
   ]
  },
  {
   "cell_type": "code",
   "execution_count": 3,
   "id": "9642a1fa-b08d-44d5-9374-7ec92beaf3b0",
   "metadata": {},
   "outputs": [
    {
     "name": "stdout",
     "output_type": "stream",
     "text": [
      "E/( 1553):   at widget.List.makeView(ListView.java:1727)\n",
      "makeView: 1727\n",
      "\n",
      "E/( 1553):   at widget.List.fillDown(ListView.java:652)\n",
      "fillDown: 652\n",
      "\n",
      "E/( 1553):   at widget.List.fillFrom(ListView.java:709)\n",
      "fillFrom: 709\n",
      "\n"
     ]
    }
   ],
   "source": [
    "p = re.compile('(\\w+)\\(ListView\\.java:(\\d+)')\n",
    "\n",
    "for i in range(len(log)):\n",
    "    m = p.search(log[i])\n",
    "    if m != None:\n",
    "        print(log[i])\n",
    "        print(m[1] + ': ' + m[2] + '\\n')"
   ]
  },
  {
   "cell_type": "code",
   "execution_count": 4,
   "id": "ac9ecf68-586b-404f-a7ee-5cc6f92135a2",
   "metadata": {},
   "outputs": [],
   "source": [
    "numbers = ['415-555-1234', '650-555-2345', '(416)555-3456', '202 555 4567', '4035555678', '1 416 555 9292', '(41)555-3456']"
   ]
  },
  {
   "cell_type": "code",
   "execution_count": 5,
   "id": "07013521-3af8-448c-bdab-c6e94c87775c",
   "metadata": {},
   "outputs": [
    {
     "name": "stdout",
     "output_type": "stream",
     "text": [
      "415-555-1234\n",
      "415-555-1234\n",
      "\n",
      "650-555-2345\n",
      "650-555-2345\n",
      "\n",
      "(416)555-3456\n",
      "416-555-3456\n",
      "\n",
      "202 555 4567\n",
      "202-555-4567\n",
      "\n",
      "4035555678\n",
      "403-555-5678\n",
      "\n",
      "1 416 555 9292\n",
      "416-555-9292\n",
      "\n",
      "['415-555-1234', '650-555-2345', '416-555-3456', '202-555-4567', '403-555-5678', '416-555-9292']\n"
     ]
    }
   ],
   "source": [
    "p = re.compile('\\d?(\\s|\\()?(\\d{3})(-| |\\)|)(\\d{3})(-| |)(\\d{4})')\n",
    "\n",
    "numbers_new = []\n",
    "\n",
    "for i in range(len(numbers)):\n",
    "    m = p.search(numbers[i])\n",
    "    if m != None:\n",
    "        print(numbers[i]) # m.group()\n",
    "        print(m[2]+ '-' + m[4]+ '-' + m[6] + '\\n')\n",
    "        numbers_new.append(m[2]+ '-' + m[4]+ '-' + m[6])\n",
    "        \n",
    "print(numbers_new)"
   ]
  },
  {
   "cell_type": "markdown",
   "id": "d694e304-4ab4-46a4-af1d-86803c79fa4e",
   "metadata": {},
   "source": [
    "### match: match the start of the string"
   ]
  },
  {
   "cell_type": "code",
   "execution_count": 6,
   "id": "8104e512-ddc3-43d2-b88f-7b59e2e50cac",
   "metadata": {},
   "outputs": [
    {
     "name": "stdout",
     "output_type": "stream",
     "text": [
      "0\n",
      "8\n",
      "(0, 8)\n",
      "415-555-\n",
      "415-555-1234\n",
      "\n",
      "0\n",
      "8\n",
      "(0, 8)\n",
      "650-555-\n",
      "650-555-2345\n",
      "\n"
     ]
    }
   ],
   "source": [
    "p = re.compile('\\d.+-\\d{3}-')\n",
    "for i in range(len(numbers)):\n",
    "    m = p.match(numbers[i])\n",
    "    if m != None:\n",
    "        print(m.start())\n",
    "        print(m.end())\n",
    "        print(m.span())\n",
    "        print(m.group())\n",
    "        print(numbers[i] + '\\n') # m.group()"
   ]
  },
  {
   "cell_type": "code",
   "execution_count": 7,
   "id": "e5825197-2063-4c0f-bdb3-33181d2b4404",
   "metadata": {},
   "outputs": [],
   "source": [
    "numbers_string = 'Either call me on 415-555-1234 or (416)555-3456. If my wife takes the call please call me on 202 555 4567. Btw. this is not a phone number: (41)555-3456'"
   ]
  },
  {
   "cell_type": "markdown",
   "id": "d9f7143b-41f1-4c1c-bd74-102658e7a748",
   "metadata": {},
   "source": [
    "### findall: find all matches in string"
   ]
  },
  {
   "cell_type": "code",
   "execution_count": 8,
   "id": "e5965a09-453c-4640-8d59-4d27bfb3de68",
   "metadata": {},
   "outputs": [
    {
     "data": {
      "text/plain": [
       "['415-555-1234', '416-555-3456', '202-555-4567']"
      ]
     },
     "execution_count": 8,
     "metadata": {},
     "output_type": "execute_result"
    }
   ],
   "source": [
    "p = re.compile('\\d?(\\s|\\()?(\\d{3})(-| |\\)|)(\\d{3})(-| |)(\\d{4})')\n",
    "m = p.findall(numbers_string)\n",
    "\n",
    "numbers_in_string = []\n",
    "\n",
    "for i in range(len(m)):\n",
    "    numbers_in_string.append(m[i][1] + '-' + m[i][3] + '-' + m[i][5])\n",
    "    \n",
    "numbers_in_string"
   ]
  },
  {
   "cell_type": "markdown",
   "id": "1330bcfb-cf19-4571-9695-9167d9256f92",
   "metadata": {},
   "source": [
    "### finditer: create callable iterator "
   ]
  },
  {
   "cell_type": "code",
   "execution_count": 9,
   "id": "dde430fa-42e3-410e-bd46-21e72d73873c",
   "metadata": {},
   "outputs": [
    {
     "name": "stdout",
     "output_type": "stream",
     "text": [
      " 415-555-1234\n",
      "(416)555-3456\n",
      " 202 555 4567\n"
     ]
    }
   ],
   "source": [
    "p = re.compile('\\d?(\\s|\\()?(\\d{3})(-| |\\)|)(\\d{3})(-| |)(\\d{4})')\n",
    "iterator = p.finditer(numbers_string)\n",
    "\n",
    "for match in iterator:\n",
    "    print(match.group())"
   ]
  },
  {
   "cell_type": "code",
   "execution_count": null,
   "id": "8096d998-361f-4ce1-8e59-6c1212bd30b0",
   "metadata": {},
   "outputs": [],
   "source": []
  }
 ],
 "metadata": {
  "kernelspec": {
   "display_name": "Python 3",
   "language": "python",
   "name": "python3"
  },
  "language_info": {
   "codemirror_mode": {
    "name": "ipython",
    "version": 3
   },
   "file_extension": ".py",
   "mimetype": "text/x-python",
   "name": "python",
   "nbconvert_exporter": "python",
   "pygments_lexer": "ipython3",
   "version": "3.8.10"
  }
 },
 "nbformat": 4,
 "nbformat_minor": 5
}
