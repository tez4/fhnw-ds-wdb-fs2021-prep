{
 "cells": [
  {
   "cell_type": "markdown",
   "id": "f124920f-855f-496e-9840-320e83537201",
   "metadata": {},
   "source": [
    "# Selecting Elements using XPath and JSON-Path"
   ]
  },
  {
   "cell_type": "code",
   "execution_count": 1,
   "id": "5aff4594-d492-42ce-ab83-5e0f395a190b",
   "metadata": {},
   "outputs": [],
   "source": [
    "from selenium import webdriver\n",
    "from selenium.webdriver.common.keys import Keys"
   ]
  },
  {
   "cell_type": "markdown",
   "id": "3e3a0562-b4b4-417b-b920-c0f7f91d6b6e",
   "metadata": {},
   "source": [
    "download the driver from https://chromedriver.chromium.org/downloads."
   ]
  },
  {
   "cell_type": "code",
   "execution_count": 2,
   "id": "5ca7b3e7-c48c-4cfd-ae3e-b3581abc216b",
   "metadata": {},
   "outputs": [],
   "source": [
    "# instantiate the driver\n",
    "driver = webdriver.Chrome()"
   ]
  },
  {
   "cell_type": "code",
   "execution_count": 3,
   "id": "c4f6864a-cca7-40e6-bfc7-d2660fec0645",
   "metadata": {},
   "outputs": [],
   "source": [
    "# navigate to website\n",
    "driver.get(\"https://ds-spaces.technik.fhnw.ch/3wdb/#menu-second\")"
   ]
  },
  {
   "cell_type": "markdown",
   "id": "a6072ebe-eda8-42a2-b920-b528a8f822f3",
   "metadata": {},
   "source": [
    "### XPath"
   ]
  },
  {
   "cell_type": "code",
   "execution_count": 4,
   "id": "fea17d6f-6660-4331-a451-9f220bee7a81",
   "metadata": {},
   "outputs": [],
   "source": [
    "driver.find_element_by_xpath('//*[@id=\"log-in-box\"]/a').click()\n",
    "driver.find_element_by_xpath('//*[@id=\"userIdPSelection_iddtext\"]').click()\n",
    "driver.find_element_by_xpath('//*[@id=\"userIdPSelection_iddtext\"]').send_keys('FHNW' + Keys.RETURN)"
   ]
  },
  {
   "cell_type": "code",
   "execution_count": 5,
   "id": "e8163f84-9473-4c90-a1aa-acf3a9584660",
   "metadata": {},
   "outputs": [],
   "source": [
    "# navigate from stream to information\n",
    "driver.find_element_by_xpath('//*[@id=\"defaultspace-main-menu\"]/li[2]').click()"
   ]
  },
  {
   "cell_type": "code",
   "execution_count": 6,
   "id": "41e99efa-bb26-443a-ad0f-abf0b3af736a",
   "metadata": {},
   "outputs": [
    {
     "data": {
      "text/plain": [
       "['Wegleitung',\n",
       " 'Was erwartet Dich?',\n",
       " 'LE1: Regular Expressions (RegEx)',\n",
       " 'LE2: XPath/JSONPath',\n",
       " 'LE3: Web-API',\n",
       " 'LE4: Web Crawling/Web Scraping',\n",
       " 'LE5: Webfeed / Cloud APIs',\n",
       " 'Aufbau und Lernaufwand',\n",
       " 'Leistungsnachweise',\n",
       " 'Wie wirst Du unterstützt?',\n",
       " 'Trainingscenter',\n",
       " 'Einstiegsaufgaben',\n",
       " 'Mini-Challenges',\n",
       " 'Immersiv-Aufträge',\n",
       " 'Ad hoc Aufgaben',\n",
       " 'Mediathek']"
      ]
     },
     "execution_count": 6,
     "metadata": {},
     "output_type": "execute_result"
    }
   ],
   "source": [
    "# get all the title names\n",
    "text = driver.find_elements_by_xpath(\"//h1[@class='page-title']\")\n",
    "\n",
    "titles = []\n",
    "for i in range(len(text)):\n",
    "    titles.append(text[i].text)\n",
    "    \n",
    "titles"
   ]
  },
  {
   "cell_type": "markdown",
   "id": "0f94ae2e-8970-48d2-97d0-63d5908c1e5c",
   "metadata": {},
   "source": [
    "### CSS-Selector"
   ]
  },
  {
   "cell_type": "code",
   "execution_count": 7,
   "id": "796b4568-0798-4252-919e-99b8bca3b394",
   "metadata": {},
   "outputs": [
    {
     "data": {
      "text/plain": [
       "'https://ds-spaces.technik.fhnw.ch/media/datenverarbeitung-infrastruktur/web-datenbeschaffung/'"
      ]
     },
     "execution_count": 7,
     "metadata": {},
     "output_type": "execute_result"
    }
   ],
   "source": [
    "driver.find_element_by_css_selector('a[rel=\"noreferrer noopener\"]').get_attribute(\"href\")"
   ]
  },
  {
   "cell_type": "code",
   "execution_count": 8,
   "id": "f7edd35c-4d9a-4b41-9b60-97f6dc2fc2ff",
   "metadata": {},
   "outputs": [],
   "source": [
    "driver.close()"
   ]
  },
  {
   "cell_type": "code",
   "execution_count": null,
   "id": "5c5f00f0-38ac-4ae4-a907-00ee9415d9b8",
   "metadata": {},
   "outputs": [],
   "source": []
  }
 ],
 "metadata": {
  "kernelspec": {
   "display_name": "Python 3",
   "language": "python",
   "name": "python3"
  },
  "language_info": {
   "codemirror_mode": {
    "name": "ipython",
    "version": 3
   },
   "file_extension": ".py",
   "mimetype": "text/x-python",
   "name": "python",
   "nbconvert_exporter": "python",
   "pygments_lexer": "ipython3",
   "version": "3.8.10"
  }
 },
 "nbformat": 4,
 "nbformat_minor": 5
}
